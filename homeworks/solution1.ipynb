{
 "cells": [
  {
   "cell_type": "code",
   "execution_count": 7,
   "metadata": {},
   "outputs": [],
   "source": [
    "import numpy as np\n",
    "import pandas as pd\n",
    "from astropy.table import Table\n",
    "from astropy.constants import G\n",
    "import matplotlib.pyplot as plt\n",
    "import matplotlib.colors as colors\n",
    "from matplotlib import rc\n",
    "rc('text', usetex=True)\n",
    "rc('xtick', labelsize=20)\n",
    "rc('ytick', labelsize=20)"
   ]
  },
  {
   "cell_type": "code",
   "execution_count": 2,
   "metadata": {},
   "outputs": [],
   "source": [
    "data = Table.read('Astr511HW1data.dat.gz', format='ascii')"
   ]
  },
  {
   "cell_type": "code",
   "execution_count": null,
   "metadata": {},
   "outputs": [],
   "source": [
    "u = np.array(data['u'])\n",
    "g = np.array(data['g'])\n",
    "r = np.array(data['r'])\n",
    "i = np.array(data['i'])\n",
    "z = np.array(data['z'])\n",
    "\n",
    "u_g = u - g\n",
    "g_r = g - r\n",
    "g_i = g - i\n",
    "\n",
    "x = u_g\n",
    "y = g_r"
   ]
  },
  {
   "cell_type": "markdown",
   "metadata": {},
   "source": [
    "$$\\Delta{M_r}([\\textrm{Fe}/\\textrm{H}]) = 4.50 - 1.11[\\textrm{Fe}/\\textrm{H}] - 0.18[\\textrm{Fe}/\\textrm{H}]^2$$\n",
    "\n",
    "$${M_r}(g-i,[\\textrm{Fe}/\\textrm{H}]) = M_r^0(g-i) + \\Delta{M_r}([\\textrm{Fe}/\\textrm{H}])$$\n",
    "\n",
    "$$([\\textrm{Fe}/\\textrm{H}]) =  A + Bx + Cy + Dxy + Ex^2 + Fy^2 + Gx^2y + Hxy^2 + Ix^3 + Jy^3$$"
   ]
  },
  {
   "cell_type": "code",
   "execution_count": 4,
   "metadata": {},
   "outputs": [],
   "source": [
    "ndata = x.shape[0]\n",
    "\n",
    "A_J = np.array([-13.13, 14.09, 28.04, -5.51, -5.90, -58.68, 9.14, -20.61, 0.0, 58.20])\n",
    "features = np.array([np.ones(ndata), x, y, x*y, x**2, y**2, x**2*y, x*y**2, x**3, y**3])\n",
    "\n",
    "feh = np.dot(A_J, features)\n",
    "\n",
    "feh[np.where(y > 0.6)[0]] = -0.6"
   ]
  },
  {
   "cell_type": "code",
   "execution_count": 5,
   "metadata": {},
   "outputs": [],
   "source": [
    "# M_r0 = -2.85 + 6.29*g_i - 2.30*g_i**2\n",
    "M_r0 = -5.06 + 14.32*g_i - 12.97*g_i**2 + 6.127*g_i**3 - 1.267*g_i**4 + 0.0967*g_i**5\n",
    "dM_r = 4.50 - 1.11*feh - 0.18*feh**2\n",
    "M_r  = M_r0 + dM_r\n",
    "\n",
    "D = 10**((r - M_r)/5 + 1)\n",
    "Z = D"
   ]
  },
  {
   "cell_type": "code",
   "execution_count": 23,
   "metadata": {},
   "outputs": [],
   "source": [
    "df = pd.DataFrame(data={'g_r':g_r, 'feh':feh, 'M_r':M_r, 'D':Z/1e3})"
   ]
  },
  {
   "cell_type": "markdown",
   "metadata": {},
   "source": [
    "### Question 1"
   ]
  },
  {
   "cell_type": "code",
   "execution_count": 92,
   "metadata": {},
   "outputs": [
    {
     "name": "stderr",
     "output_type": "stream",
     "text": [
      "/home/jbirky/.local/lib/python3.7/site-packages/ipykernel_launcher.py:9: UserWarning: Boolean Series key will be reindexed to match DataFrame index.\n",
      "  if __name__ == '__main__':\n"
     ]
    }
   ],
   "source": [
    "dOmega = 314 / (180/np.pi)**2  # convert deg^2 to sterradians\n",
    "dD = 1\n",
    "\n",
    "Dbins = np.arange(0,26,dD)\n",
    "Dbin_cent = np.arange(dD/2,26,dD)\n",
    "dV = dOmega * (Dbin_cent)**2 * dD\n",
    "# dV = dOmega * dD * (np.arange(1,27,dD)**2 - np.arange(0,26,dD)**2)\n",
    "\n",
    "sel = df[df['g_r'] < 0.4][df['g_r'] > 0.2]"
   ]
  },
  {
   "cell_type": "code",
   "execution_count": 93,
   "metadata": {},
   "outputs": [],
   "source": [
    "dN = []\n",
    "for dbin in Dbins:\n",
    "    dN.append(len(np.where((sel['D'] > dbin) & (sel['D'] < dbin+dD))[0]))\n",
    "dN = np.array(dN)"
   ]
  },
  {
   "cell_type": "code",
   "execution_count": 96,
   "metadata": {},
   "outputs": [
    {
     "data": {
      "image/png": "[encoded data removed]",
      "text/plain": [
       "<Figure size 720x576 with 1 Axes>"
      ]
     },
     "metadata": {
      "needs_background": "light"
     },
     "output_type": "display_data"
    }
   ],
   "source": [
    "plt.figure(figsize=[10,8])\n",
    "plt.step(Dbins, np.log(dN/dV))\n",
    "plt.ylabel(r'$\\ln[\\rho(D)]$', fontsize=20)\n",
    "plt.xlabel(r'$D \\, \\rm [kpc]$', fontsize=20)\n",
    "plt.xlim(min(Dbins), max(Dbins))\n",
    "plt.minorticks_on()\n",
    "plt.savefig('plot1.png')\n",
    "plt.show()"
   ]
  },
  {
   "cell_type": "code",
   "execution_count": 34,
   "metadata": {},
   "outputs": [],
   "source": [
    "# plt.hist(sel['D']/dV, bins=zbins, histtype='step')\n",
    "# plt.show()"
   ]
  },
  {
   "cell_type": "markdown",
   "metadata": {},
   "source": [
    "### Question 2"
   ]
  },
  {
   "cell_type": "code",
   "execution_count": null,
   "metadata": {},
   "outputs": [],
   "source": []
  }
 ],
 "metadata": {
  "kernelspec": {
   "display_name": "Python 3",
   "language": "python",
   "name": "python3"
  },
  "language_info": {
   "codemirror_mode": {
    "name": "ipython",
    "version": 3
   },
   "file_extension": ".py",
   "mimetype": "text/x-python",
   "name": "python",
   "nbconvert_exporter": "python",
   "pygments_lexer": "ipython3",
   "version": "3.7.7"
  }
 },
 "nbformat": 4,
 "nbformat_minor": 4
}
